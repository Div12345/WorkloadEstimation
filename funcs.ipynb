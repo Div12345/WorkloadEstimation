{
 "cells": [
  {
   "cell_type": "code",
   "execution_count": 1,
   "metadata": {},
   "outputs": [],
   "source": [
    "# import data from subject 1 session 1 and 2\n",
    "import os\n",
    "import mne\n",
    "from mne.externals.pymatreader import read_mat\n",
    "import numpy as np"
   ]
  },
  {
   "cell_type": "code",
   "execution_count": 4,
   "metadata": {},
   "outputs": [],
   "source": [
    "def load_dat(sub_n,session_n,epf):\n",
    "    cwd = os.getcwd()\n",
    "    data_path = cwd\n",
    "    # n_subs = 4\n",
    "    # n_sessions = 2\n",
    "    diff = ['MATBeasy', 'MATBmed', 'MATBdiff']\n",
    "    # electrodes = pd.read_csv(data_path + '/chan_locs_standard',header=None, sep ='\\t', names=['ch_names','x','y','z'])\n",
    "\n",
    "    epochs_data = []\n",
    "    labels = []\n",
    "    for lab_idx, level in enumerate(diff):\n",
    "        sub = 'P{0:02d}'.format(sub_n+1)\n",
    "        sess = f'S{session_n+1}'\n",
    "        path = os.path.join(os.path.join(data_path, sub), sess) + f'/eeg/alldata_sbj{str(sub_n+1).zfill(2)}_sess{session_n+1}_{level}.set'\n",
    "        # Read the epoched data with MNE\n",
    "        epochs = mne.io.read_epochs_eeglab(path, verbose=False)\n",
    "        # You could add some pre-processing here with MNE\n",
    "\n",
    "        # Get the data and concatenante with others MATB levels\n",
    "        tmp = epochs.get_data()\n",
    "        epochs_data.extend(tmp)\n",
    "        labels.extend([lab_idx]*len(tmp))\n",
    "    epochs_datan = np.array(epochs_data)\n",
    "    labels = np.array(labels)\n",
    "    if epf ==False:\n",
    "        return epochs_datan, labels\n",
    "    if epf==True:\n",
    "        return epochs_datan, labels, epochs_data"
   ]
  }
 ],
 "metadata": {
  "kernelspec": {
   "display_name": "Python 3",
   "language": "python",
   "name": "python3"
  },
  "language_info": {
   "codemirror_mode": {
    "name": "ipython",
    "version": 3
   },
   "file_extension": ".py",
   "mimetype": "text/x-python",
   "name": "python",
   "nbconvert_exporter": "python",
   "pygments_lexer": "ipython3",
   "version": "3.8.3"
  }
 },
 "nbformat": 4,
 "nbformat_minor": 5
}
